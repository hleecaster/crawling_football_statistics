{
 "cells": [
  {
   "cell_type": "markdown",
   "metadata": {},
   "source": [
    "라이브러리 불러오기"
   ]
  },
  {
   "cell_type": "code",
   "execution_count": 1,
   "metadata": {},
   "outputs": [],
   "source": [
    "from selenium import webdriver\n",
    "import time\n",
    "from openpyxl import Workbook"
   ]
  },
  {
   "cell_type": "markdown",
   "metadata": {},
   "source": [
    "whosccored.com 주소 확인 (리그 및 시즌)"
   ]
  },
  {
   "cell_type": "code",
   "execution_count": 2,
   "metadata": {},
   "outputs": [
    {
     "data": {
      "text/plain": [
       "'England-Premier-League-2018-2019'"
      ]
     },
     "execution_count": 2,
     "metadata": {},
     "output_type": "execute_result"
    }
   ],
   "source": [
    "url = \"https://www.whoscored.com/Regions/252/Tournaments/2/Seasons/7811/Stages/17590/PlayerStatistics/England-Premier-League-2018-2019\"\n",
    "league_season = url.split(\"/\")[-1]\n",
    "league_season"
   ]
  },
  {
   "cell_type": "markdown",
   "metadata": {},
   "source": [
    "웹드라이버 크롬 실행"
   ]
  },
  {
   "cell_type": "code",
   "execution_count": 3,
   "metadata": {},
   "outputs": [],
   "source": [
    "driver = webdriver.Chrome('C:\\\\Users\\\\hlee\\\\workspace\\\\hlee\\\\whoscored\\\\chromedriver.exe')\n",
    "driver.get(url)"
   ]
  },
  {
   "cell_type": "markdown",
   "metadata": {},
   "source": [
    "privacy accept 버튼 클릭"
   ]
  },
  {
   "cell_type": "code",
   "execution_count": 4,
   "metadata": {},
   "outputs": [],
   "source": [
    "accept_button = driver.find_element_by_xpath('//*[contains(text(),\"I accept\")]')\n",
    "accept_button.click()"
   ]
  },
  {
   "cell_type": "markdown",
   "metadata": {},
   "source": [
    "filter all players 버튼 클릭"
   ]
  },
  {
   "cell_type": "code",
   "execution_count": 5,
   "metadata": {},
   "outputs": [],
   "source": [
    "filter_button = driver.find_element_by_xpath('//*[contains(text(),\"All players\")]')\n",
    "filter_button.click()"
   ]
  },
  {
   "cell_type": "markdown",
   "metadata": {},
   "source": [
    "페이지 수 확인"
   ]
  },
  {
   "cell_type": "code",
   "execution_count": 6,
   "metadata": {},
   "outputs": [
    {
     "data": {
      "text/plain": [
       "50"
      ]
     },
     "execution_count": 6,
     "metadata": {},
     "output_type": "execute_result"
    }
   ],
   "source": [
    "total_pages_area = driver.find_element_by_id('totalPages')\n",
    "total_pages = int(total_pages_area.get_attribute(\"value\"))\n",
    "total_pages"
   ]
  },
  {
   "cell_type": "markdown",
   "metadata": {},
   "source": [
    "표 크롤링"
   ]
  },
  {
   "cell_type": "code",
   "execution_count": 7,
   "metadata": {},
   "outputs": [
    {
     "name": "stdout",
     "output_type": "stream",
     "text": [
      "1/50 completed\n",
      "2/50 completed\n",
      "3/50 completed\n",
      "4/50 completed\n",
      "5/50 completed\n",
      "6/50 completed\n",
      "7/50 completed\n",
      "8/50 completed\n",
      "9/50 completed\n",
      "10/50 completed\n",
      "11/50 completed\n",
      "12/50 completed\n",
      "13/50 completed\n",
      "14/50 completed\n",
      "15/50 completed\n",
      "16/50 completed\n",
      "17/50 completed\n",
      "18/50 completed\n",
      "19/50 completed\n",
      "20/50 completed\n",
      "21/50 completed\n",
      "22/50 completed\n",
      "23/50 completed\n",
      "24/50 completed\n",
      "25/50 completed\n",
      "26/50 completed\n",
      "27/50 completed\n",
      "28/50 completed\n",
      "29/50 completed\n",
      "30/50 completed\n",
      "31/50 completed\n",
      "32/50 completed\n",
      "33/50 completed\n",
      "34/50 completed\n",
      "35/50 completed\n",
      "36/50 completed\n",
      "37/50 completed\n",
      "38/50 completed\n",
      "39/50 completed\n",
      "40/50 completed\n",
      "41/50 completed\n",
      "42/50 completed\n",
      "43/50 completed\n",
      "44/50 completed\n",
      "45/50 completed\n",
      "46/50 completed\n",
      "47/50 completed\n",
      "48/50 completed\n",
      "49/50 completed\n",
      "50/50 completed\n"
     ]
    }
   ],
   "source": [
    "results = []\n",
    "\n",
    "for page in range(total_pages):\n",
    "    table_body = driver.find_element_by_id('player-table-statistics-body')\n",
    "    tr_list = table_body.find_elements_by_tag_name('tr')\n",
    "\n",
    "    for tr in tr_list:\n",
    "        result = []\n",
    "        td = tr.find_elements_by_tag_name('td')\n",
    "        \n",
    "        for stats in td:\n",
    "            result.append(stats.text)\n",
    "\n",
    "        results.append(result)\n",
    "    print(\"{}/{} completed\".format(page+1, total_pages))\n",
    "\n",
    "    driver.find_element_by_id('next').click()\n",
    "    time.sleep(2)"
   ]
  },
  {
   "cell_type": "markdown",
   "metadata": {},
   "source": [
    "웹드라이버 종료"
   ]
  },
  {
   "cell_type": "code",
   "execution_count": 8,
   "metadata": {},
   "outputs": [],
   "source": [
    "driver.quit()"
   ]
  },
  {
   "cell_type": "markdown",
   "metadata": {},
   "source": [
    "결과 엑셀 저장"
   ]
  },
  {
   "cell_type": "code",
   "execution_count": 9,
   "metadata": {},
   "outputs": [],
   "source": [
    "output_filename = \"whoscored_player_statistics{}.xlsx\".format(league_season)\n",
    "\n",
    "wb = Workbook()\n",
    "ws = wb.active\n",
    "for i in results:\n",
    "    ws.append(i)\n",
    "        \n",
    "wb.save(output_filename)"
   ]
  }
 ],
 "metadata": {
  "kernelspec": {
   "display_name": "Python 3",
   "language": "python",
   "name": "python3"
  },
  "language_info": {
   "codemirror_mode": {
    "name": "ipython",
    "version": 3
   },
   "file_extension": ".py",
   "mimetype": "text/x-python",
   "name": "python",
   "nbconvert_exporter": "python",
   "pygments_lexer": "ipython3",
   "version": "3.7.1"
  },
  "toc": {
   "base_numbering": 1,
   "nav_menu": {},
   "number_sections": true,
   "sideBar": true,
   "skip_h1_title": false,
   "title_cell": "Table of Contents",
   "title_sidebar": "Contents",
   "toc_cell": false,
   "toc_position": {},
   "toc_section_display": true,
   "toc_window_display": false
  }
 },
 "nbformat": 4,
 "nbformat_minor": 4
}
