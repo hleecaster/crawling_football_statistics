{
 "cells": [
  {
   "cell_type": "markdown",
   "metadata": {},
   "source": [
    "# Crawaling"
   ]
  },
  {
   "cell_type": "markdown",
   "metadata": {},
   "source": [
    "라이브러리 불러오기"
   ]
  },
  {
   "cell_type": "code",
   "execution_count": 1,
   "metadata": {},
   "outputs": [],
   "source": [
    "from selenium import webdriver\n",
    "import time"
   ]
  },
  {
   "cell_type": "markdown",
   "metadata": {},
   "source": [
    "웹드라이버 크롬 실행, url 접속"
   ]
  },
  {
   "cell_type": "code",
   "execution_count": 2,
   "metadata": {},
   "outputs": [],
   "source": [
    "url = \"https://www.whoscored.com/Statistics\"\n",
    "driver = webdriver.Chrome('chromedriver.exe')\n",
    "driver.get(url)"
   ]
  },
  {
   "cell_type": "markdown",
   "metadata": {},
   "source": [
    "privacy accept 버튼 클릭"
   ]
  },
  {
   "cell_type": "code",
   "execution_count": 3,
   "metadata": {},
   "outputs": [],
   "source": [
    "accept_button = driver.find_element_by_xpath('//*[contains(text(),\"I accept\")]')\n",
    "accept_button.click()\n",
    "time.sleep(2)"
   ]
  },
  {
   "cell_type": "markdown",
   "metadata": {},
   "source": [
    "페이지 수 확인"
   ]
  },
  {
   "cell_type": "code",
   "execution_count": 4,
   "metadata": {},
   "outputs": [
    {
     "data": {
      "text/plain": [
       "142"
      ]
     },
     "execution_count": 4,
     "metadata": {},
     "output_type": "execute_result"
    }
   ],
   "source": [
    "statistics_paging_summary = driver.find_element_by_id('statistics-paging-summary')\n",
    "total_pages_elem = statistics_paging_summary.find_element_by_id('totalPages')\n",
    "total_pages = int(total_pages_elem.get_attribute(\"value\"))\n",
    "total_pages"
   ]
  },
  {
   "cell_type": "markdown",
   "metadata": {},
   "source": [
    "표 크롤링"
   ]
  },
  {
   "cell_type": "code",
   "execution_count": 5,
   "metadata": {},
   "outputs": [
    {
     "name": "stdout",
     "output_type": "stream",
     "text": [
      "1 / 142 completed\n",
      "2 / 142 completed\n",
      "3 / 142 completed\n",
      "4 / 142 completed\n",
      "5 / 142 completed\n",
      "6 / 142 completed\n",
      "7 / 142 completed\n",
      "8 / 142 completed\n",
      "9 / 142 completed\n",
      "10 / 142 completed\n",
      "11 / 142 completed\n",
      "12 / 142 completed\n",
      "13 / 142 completed\n",
      "14 / 142 completed\n",
      "15 / 142 completed\n",
      "16 / 142 completed\n",
      "17 / 142 completed\n",
      "18 / 142 completed\n",
      "19 / 142 completed\n",
      "20 / 142 completed\n",
      "21 / 142 completed\n",
      "22 / 142 completed\n",
      "23 / 142 completed\n",
      "24 / 142 completed\n",
      "25 / 142 completed\n",
      "26 / 142 completed\n",
      "27 / 142 completed\n",
      "28 / 142 completed\n",
      "29 / 142 completed\n",
      "30 / 142 completed\n",
      "31 / 142 completed\n",
      "32 / 142 completed\n",
      "33 / 142 completed\n",
      "34 / 142 completed\n",
      "35 / 142 completed\n",
      "36 / 142 completed\n",
      "37 / 142 completed\n",
      "38 / 142 completed\n",
      "39 / 142 completed\n",
      "40 / 142 completed\n",
      "41 / 142 completed\n",
      "42 / 142 completed\n",
      "43 / 142 completed\n",
      "44 / 142 completed\n",
      "45 / 142 completed\n",
      "46 / 142 completed\n",
      "47 / 142 completed\n",
      "48 / 142 completed\n",
      "49 / 142 completed\n",
      "50 / 142 completed\n",
      "51 / 142 completed\n",
      "52 / 142 completed\n",
      "53 / 142 completed\n",
      "54 / 142 completed\n",
      "55 / 142 completed\n",
      "56 / 142 completed\n",
      "57 / 142 completed\n",
      "58 / 142 completed\n",
      "59 / 142 completed\n",
      "60 / 142 completed\n",
      "61 / 142 completed\n",
      "62 / 142 completed\n",
      "63 / 142 completed\n",
      "64 / 142 completed\n",
      "65 / 142 completed\n",
      "66 / 142 completed\n",
      "67 / 142 completed\n",
      "68 / 142 completed\n",
      "69 / 142 completed\n",
      "70 / 142 completed\n",
      "71 / 142 completed\n",
      "72 / 142 completed\n",
      "73 / 142 completed\n",
      "74 / 142 completed\n",
      "75 / 142 completed\n",
      "76 / 142 completed\n",
      "77 / 142 completed\n",
      "78 / 142 completed\n",
      "79 / 142 completed\n",
      "80 / 142 completed\n",
      "81 / 142 completed\n",
      "82 / 142 completed\n",
      "83 / 142 completed\n",
      "84 / 142 completed\n",
      "85 / 142 completed\n",
      "86 / 142 completed\n",
      "87 / 142 completed\n",
      "88 / 142 completed\n",
      "89 / 142 completed\n",
      "90 / 142 completed\n",
      "91 / 142 completed\n",
      "92 / 142 completed\n",
      "93 / 142 completed\n",
      "94 / 142 completed\n",
      "95 / 142 completed\n",
      "96 / 142 completed\n",
      "97 / 142 completed\n",
      "98 / 142 completed\n",
      "99 / 142 completed\n",
      "100 / 142 completed\n",
      "101 / 142 completed\n",
      "102 / 142 completed\n",
      "103 / 142 completed\n",
      "104 / 142 completed\n",
      "105 / 142 completed\n",
      "106 / 142 completed\n",
      "107 / 142 completed\n",
      "108 / 142 completed\n",
      "109 / 142 completed\n",
      "110 / 142 completed\n",
      "111 / 142 completed\n",
      "112 / 142 completed\n",
      "113 / 142 completed\n",
      "114 / 142 completed\n",
      "115 / 142 completed\n",
      "116 / 142 completed\n",
      "117 / 142 completed\n",
      "118 / 142 completed\n",
      "119 / 142 completed\n",
      "120 / 142 completed\n",
      "121 / 142 completed\n",
      "122 / 142 completed\n",
      "123 / 142 completed\n",
      "124 / 142 completed\n",
      "125 / 142 completed\n",
      "126 / 142 completed\n",
      "127 / 142 completed\n",
      "128 / 142 completed\n",
      "129 / 142 completed\n",
      "130 / 142 completed\n",
      "131 / 142 completed\n",
      "132 / 142 completed\n",
      "133 / 142 completed\n",
      "134 / 142 completed\n",
      "135 / 142 completed\n",
      "136 / 142 completed\n",
      "137 / 142 completed\n",
      "138 / 142 completed\n",
      "139 / 142 completed\n",
      "140 / 142 completed\n",
      "141 / 142 completed\n",
      "142 / 142 completed\n"
     ]
    }
   ],
   "source": [
    "results = []\n",
    "\n",
    "for page in range(total_pages):\n",
    "    table_body = driver.find_element_by_id('player-table-statistics-body')\n",
    "    tr_list = table_body.find_elements_by_tag_name('tr')\n",
    "\n",
    "    for tr in tr_list:\n",
    "        result = []\n",
    "        td = tr.find_elements_by_tag_name('td')\n",
    "        \n",
    "        for stats in td:\n",
    "            result.append(stats.text)\n",
    "\n",
    "        results.append(result)\n",
    "    print(\"{} / {} completed\".format(page+1, total_pages))\n",
    "    \n",
    "    statistics_paging_summary = driver.find_element_by_id('statistics-paging-summary')\n",
    "    statistics_paging_summary.find_element_by_id('next').click()\n",
    "\n",
    "    time.sleep(2)"
   ]
  },
  {
   "cell_type": "markdown",
   "metadata": {},
   "source": [
    "웹드라이버 종료"
   ]
  },
  {
   "cell_type": "code",
   "execution_count": 6,
   "metadata": {},
   "outputs": [],
   "source": [
    "driver.quit()"
   ]
  },
  {
   "cell_type": "markdown",
   "metadata": {},
   "source": [
    "# Save as CSV"
   ]
  },
  {
   "cell_type": "markdown",
   "metadata": {},
   "source": [
    "결과 csv 저장"
   ]
  },
  {
   "cell_type": "code",
   "execution_count": 7,
   "metadata": {},
   "outputs": [],
   "source": [
    "import csv\n",
    "\n",
    "output_file_name = \"player_statistics_whoscored.csv\"\n",
    "\n",
    "with open(output_file_name, 'w', encoding='UTF-8', newline='') as csvfile:\n",
    "    writer = csv.writer(csvfile)\n",
    "    for row in results:\n",
    "        writer.writerow(row)"
   ]
  }
 ],
 "metadata": {
  "kernelspec": {
   "display_name": "Python 3",
   "language": "python",
   "name": "python3"
  },
  "language_info": {
   "codemirror_mode": {
    "name": "ipython",
    "version": 3
   },
   "file_extension": ".py",
   "mimetype": "text/x-python",
   "name": "python",
   "nbconvert_exporter": "python",
   "pygments_lexer": "ipython3",
   "version": "3.7.1"
  },
  "toc": {
   "base_numbering": 1,
   "nav_menu": {},
   "number_sections": true,
   "sideBar": true,
   "skip_h1_title": false,
   "title_cell": "Table of Contents",
   "title_sidebar": "Contents",
   "toc_cell": false,
   "toc_position": {},
   "toc_section_display": true,
   "toc_window_display": false
  }
 },
 "nbformat": 4,
 "nbformat_minor": 4
}
